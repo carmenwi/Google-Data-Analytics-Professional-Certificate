{
 "cells": [
  {
   "cell_type": "markdown",
   "metadata": {},
   "source": [
    "# Proyecto Final: ¿Cómo puede hacer una empresa tecnología para el bienestar para tomar decisiones inteligentes?"
   ]
  },
  {
   "cell_type": "markdown",
   "metadata": {},
   "source": [
    "En este caso práctico planteado en el `Curso de Análisis de Datos de Google`, analizaremos datos públicos recogidos por relojes inteligentes de distintas empresas, con el objetivo de **identificar patrones que ayuden a la empresa Bellabeat a mejorar sus dispositivos inteligentes**.\n",
    "\n",
    "Bellabeat se trata de una empresa comprometida con la salud y bienestar de sus clientes. Para ello, cuenta con varios dispositivos de seguimiento que se conectan a su propia aplicación, lo que permite a sus clientes hacer un seguimiento de datos relacionados con su salud, como su actividad física o sueño.\n",
    "\n",
    "En este análisis, responderemos las siguientes cuestiones:\n",
    "\n",
    "- 1. ¿Cuáles son algunas tendencias de uso de los dispositivos inteligentes?\n",
    "\n",
    "- 2. ¿Cómo se podrían aplicar estas tendencias a los clientes de Bellabeat?\n",
    "\n",
    "- 3. ¿Cómo podrían ayudar estas tendencias a influir en la estrategia de marketing de Bellabeat?"
   ]
  },
  {
   "cell_type": "markdown",
   "metadata": {},
   "source": [
    "## 1. Descripción de la tarea empresarial\n",
    "\n",
    "El objetivo de este proyecto es analizar los datos de uso de los dispositivos inteligentes para saber cómo usan los consumidores los dispositivos inteligentes que no son de Bellabeat. \n",
    "\n",
    "\n",
    "\n",
    "Para estudiar la tendencia de uso de otros dispositivos inteligentes relacionados con la salud, nos centraremos en el análisis de relojes inteligentes de la empresa **Fitbit**."
   ]
  },
  {
   "cell_type": "markdown",
   "metadata": {},
   "source": []
  }
 ],
 "metadata": {
  "language_info": {
   "name": "python"
  }
 },
 "nbformat": 4,
 "nbformat_minor": 2
}
